{
 "cells": [
  {
   "cell_type": "markdown",
   "metadata": {},
   "source": [
    "# Challenge\n",
    "# Coded by Soumonos Mukherjee "
   ]
  },
  {
   "cell_type": "markdown",
   "metadata": {},
   "source": [
    "## Introduction to the dataframe\n"
   ]
  },
  {
   "cell_type": "markdown",
   "metadata": {},
   "source": [
    "- Read all-ages.csv from a DataFrame and assign it to the all_ages variable.\n",
    "- Read recent-grads.csv from a DataFrame and assign it to the recent_grads variable.\n",
    "- Display the first 5 lines of all_ages and recent_grads.\n"
   ]
  },
  {
   "cell_type": "code",
   "execution_count": 1,
   "metadata": {},
   "outputs": [],
   "source": [
    "import pandas as pd\n",
    "import os\n",
    "os.chdir(\"C:\\\\Users\\\\User\\\\Downloads\\\\Soumonos & Kavesh\")"
   ]
  },
  {
   "cell_type": "code",
   "execution_count": 2,
   "metadata": {},
   "outputs": [
    {
     "data": {
      "text/html": [
       "<div>\n",
       "<style scoped>\n",
       "    .dataframe tbody tr th:only-of-type {\n",
       "        vertical-align: middle;\n",
       "    }\n",
       "\n",
       "    .dataframe tbody tr th {\n",
       "        vertical-align: top;\n",
       "    }\n",
       "\n",
       "    .dataframe thead th {\n",
       "        text-align: right;\n",
       "    }\n",
       "</style>\n",
       "<table border=\"1\" class=\"dataframe\">\n",
       "  <thead>\n",
       "    <tr style=\"text-align: right;\">\n",
       "      <th></th>\n",
       "      <th>Major_code</th>\n",
       "      <th>Major</th>\n",
       "      <th>Major_category</th>\n",
       "      <th>Total</th>\n",
       "      <th>Employed</th>\n",
       "      <th>Employed_full_time_year_round</th>\n",
       "      <th>Unemployed</th>\n",
       "      <th>Unemployment_rate</th>\n",
       "      <th>Median</th>\n",
       "      <th>P25th</th>\n",
       "      <th>P75th</th>\n",
       "    </tr>\n",
       "  </thead>\n",
       "  <tbody>\n",
       "    <tr>\n",
       "      <th>0</th>\n",
       "      <td>1100</td>\n",
       "      <td>GENERAL AGRICULTURE</td>\n",
       "      <td>Agriculture &amp; Natural Resources</td>\n",
       "      <td>128148.0</td>\n",
       "      <td>90245.0</td>\n",
       "      <td>74078.0</td>\n",
       "      <td>2423.0</td>\n",
       "      <td>0.026147</td>\n",
       "      <td>50000.0</td>\n",
       "      <td>34000.0</td>\n",
       "      <td>80000.0</td>\n",
       "    </tr>\n",
       "    <tr>\n",
       "      <th>1</th>\n",
       "      <td>1101</td>\n",
       "      <td>AGRICULTURE PRODUCTION AND MANAGEMENT</td>\n",
       "      <td>Agriculture &amp; Natural Resources</td>\n",
       "      <td>95326.0</td>\n",
       "      <td>76865.0</td>\n",
       "      <td>64240.0</td>\n",
       "      <td>2266.0</td>\n",
       "      <td>0.028636</td>\n",
       "      <td>54000.0</td>\n",
       "      <td>36000.0</td>\n",
       "      <td>80000.0</td>\n",
       "    </tr>\n",
       "    <tr>\n",
       "      <th>2</th>\n",
       "      <td>1102</td>\n",
       "      <td>AGRICULTURAL ECONOMICS</td>\n",
       "      <td>Agriculture &amp; Natural Resources</td>\n",
       "      <td>33955.0</td>\n",
       "      <td>26321.0</td>\n",
       "      <td>22810.0</td>\n",
       "      <td>821.0</td>\n",
       "      <td>0.030248</td>\n",
       "      <td>63000.0</td>\n",
       "      <td>40000.0</td>\n",
       "      <td>98000.0</td>\n",
       "    </tr>\n",
       "    <tr>\n",
       "      <th>3</th>\n",
       "      <td>1103</td>\n",
       "      <td>ANIMAL SCIENCES</td>\n",
       "      <td>Agriculture &amp; Natural Resources</td>\n",
       "      <td>103549.0</td>\n",
       "      <td>81177.0</td>\n",
       "      <td>64937.0</td>\n",
       "      <td>3619.0</td>\n",
       "      <td>0.042679</td>\n",
       "      <td>46000.0</td>\n",
       "      <td>30000.0</td>\n",
       "      <td>72000.0</td>\n",
       "    </tr>\n",
       "    <tr>\n",
       "      <th>4</th>\n",
       "      <td>1104</td>\n",
       "      <td>FOOD SCIENCE</td>\n",
       "      <td>Agriculture &amp; Natural Resources</td>\n",
       "      <td>24280.0</td>\n",
       "      <td>17281.0</td>\n",
       "      <td>12722.0</td>\n",
       "      <td>894.0</td>\n",
       "      <td>0.049188</td>\n",
       "      <td>62000.0</td>\n",
       "      <td>38500.0</td>\n",
       "      <td>90000.0</td>\n",
       "    </tr>\n",
       "  </tbody>\n",
       "</table>\n",
       "</div>"
      ],
      "text/plain": [
       "  Major_code                                  Major  \\\n",
       "0       1100                    GENERAL AGRICULTURE   \n",
       "1       1101  AGRICULTURE PRODUCTION AND MANAGEMENT   \n",
       "2       1102                 AGRICULTURAL ECONOMICS   \n",
       "3       1103                        ANIMAL SCIENCES   \n",
       "4       1104                           FOOD SCIENCE   \n",
       "\n",
       "                    Major_category     Total  Employed  \\\n",
       "0  Agriculture & Natural Resources  128148.0   90245.0   \n",
       "1  Agriculture & Natural Resources   95326.0   76865.0   \n",
       "2  Agriculture & Natural Resources   33955.0   26321.0   \n",
       "3  Agriculture & Natural Resources  103549.0   81177.0   \n",
       "4  Agriculture & Natural Resources   24280.0   17281.0   \n",
       "\n",
       "   Employed_full_time_year_round  Unemployed  Unemployment_rate   Median  \\\n",
       "0                        74078.0      2423.0           0.026147  50000.0   \n",
       "1                        64240.0      2266.0           0.028636  54000.0   \n",
       "2                        22810.0       821.0           0.030248  63000.0   \n",
       "3                        64937.0      3619.0           0.042679  46000.0   \n",
       "4                        12722.0       894.0           0.049188  62000.0   \n",
       "\n",
       "     P25th    P75th  \n",
       "0  34000.0  80000.0  \n",
       "1  36000.0  80000.0  \n",
       "2  40000.0  98000.0  \n",
       "3  30000.0  72000.0  \n",
       "4  38500.0  90000.0  "
      ]
     },
     "execution_count": 2,
     "metadata": {},
     "output_type": "execute_result"
    }
   ],
   "source": [
    "all_ages= pd.read_csv(\"all-ages.csv\")\n",
    "all_ages.head(5)"
   ]
  },
  {
   "cell_type": "code",
   "execution_count": 3,
   "metadata": {},
   "outputs": [
    {
     "data": {
      "text/html": [
       "<div>\n",
       "<style scoped>\n",
       "    .dataframe tbody tr th:only-of-type {\n",
       "        vertical-align: middle;\n",
       "    }\n",
       "\n",
       "    .dataframe tbody tr th {\n",
       "        vertical-align: top;\n",
       "    }\n",
       "\n",
       "    .dataframe thead th {\n",
       "        text-align: right;\n",
       "    }\n",
       "</style>\n",
       "<table border=\"1\" class=\"dataframe\">\n",
       "  <thead>\n",
       "    <tr style=\"text-align: right;\">\n",
       "      <th></th>\n",
       "      <th>Rank</th>\n",
       "      <th>Major_code</th>\n",
       "      <th>Major</th>\n",
       "      <th>Major_category</th>\n",
       "      <th>Total</th>\n",
       "      <th>Sample_size</th>\n",
       "      <th>Men</th>\n",
       "      <th>Women</th>\n",
       "      <th>ShareWomen</th>\n",
       "      <th>Employed</th>\n",
       "      <th>...</th>\n",
       "      <th>Part_time</th>\n",
       "      <th>Full_time_year_round</th>\n",
       "      <th>Unemployed</th>\n",
       "      <th>Unemployment_rate</th>\n",
       "      <th>Median</th>\n",
       "      <th>P25th</th>\n",
       "      <th>P75th</th>\n",
       "      <th>College_jobs</th>\n",
       "      <th>Non_college_jobs</th>\n",
       "      <th>Low_wage_jobs</th>\n",
       "    </tr>\n",
       "  </thead>\n",
       "  <tbody>\n",
       "    <tr>\n",
       "      <th>0</th>\n",
       "      <td>1</td>\n",
       "      <td>2419.0</td>\n",
       "      <td>PETROLEUM ENGINEERING</td>\n",
       "      <td>Engineering</td>\n",
       "      <td>2339.0</td>\n",
       "      <td>36.0</td>\n",
       "      <td>2057.0</td>\n",
       "      <td>282.0</td>\n",
       "      <td>0.120564</td>\n",
       "      <td>1976.0</td>\n",
       "      <td>...</td>\n",
       "      <td>270.0</td>\n",
       "      <td>1207.0</td>\n",
       "      <td>37.0</td>\n",
       "      <td>0.018381</td>\n",
       "      <td>110000.0</td>\n",
       "      <td>95000.0</td>\n",
       "      <td>125000.0</td>\n",
       "      <td>1534.0</td>\n",
       "      <td>364.0</td>\n",
       "      <td>193.0</td>\n",
       "    </tr>\n",
       "    <tr>\n",
       "      <th>1</th>\n",
       "      <td>2</td>\n",
       "      <td>2416.0</td>\n",
       "      <td>MINING AND MINERAL ENGINEERING</td>\n",
       "      <td>Engineering</td>\n",
       "      <td>756.0</td>\n",
       "      <td>7.0</td>\n",
       "      <td>679.0</td>\n",
       "      <td>77.0</td>\n",
       "      <td>0.101852</td>\n",
       "      <td>640.0</td>\n",
       "      <td>...</td>\n",
       "      <td>170.0</td>\n",
       "      <td>388.0</td>\n",
       "      <td>85.0</td>\n",
       "      <td>0.117241</td>\n",
       "      <td>75000.0</td>\n",
       "      <td>55000.0</td>\n",
       "      <td>90000.0</td>\n",
       "      <td>350.0</td>\n",
       "      <td>257.0</td>\n",
       "      <td>50.0</td>\n",
       "    </tr>\n",
       "    <tr>\n",
       "      <th>2</th>\n",
       "      <td>3</td>\n",
       "      <td>2415.0</td>\n",
       "      <td>METALLURGICAL ENGINEERING</td>\n",
       "      <td>Engineering</td>\n",
       "      <td>856.0</td>\n",
       "      <td>3.0</td>\n",
       "      <td>725.0</td>\n",
       "      <td>131.0</td>\n",
       "      <td>0.153037</td>\n",
       "      <td>648.0</td>\n",
       "      <td>...</td>\n",
       "      <td>133.0</td>\n",
       "      <td>340.0</td>\n",
       "      <td>16.0</td>\n",
       "      <td>0.024096</td>\n",
       "      <td>73000.0</td>\n",
       "      <td>50000.0</td>\n",
       "      <td>105000.0</td>\n",
       "      <td>456.0</td>\n",
       "      <td>176.0</td>\n",
       "      <td>0.0</td>\n",
       "    </tr>\n",
       "    <tr>\n",
       "      <th>3</th>\n",
       "      <td>4</td>\n",
       "      <td>2417.0</td>\n",
       "      <td>NAVAL ARCHITECTURE AND MARINE ENGINEERING</td>\n",
       "      <td>Engineering</td>\n",
       "      <td>1258.0</td>\n",
       "      <td>16.0</td>\n",
       "      <td>1123.0</td>\n",
       "      <td>135.0</td>\n",
       "      <td>0.107313</td>\n",
       "      <td>758.0</td>\n",
       "      <td>...</td>\n",
       "      <td>150.0</td>\n",
       "      <td>692.0</td>\n",
       "      <td>40.0</td>\n",
       "      <td>0.050125</td>\n",
       "      <td>70000.0</td>\n",
       "      <td>43000.0</td>\n",
       "      <td>80000.0</td>\n",
       "      <td>529.0</td>\n",
       "      <td>102.0</td>\n",
       "      <td>0.0</td>\n",
       "    </tr>\n",
       "    <tr>\n",
       "      <th>4</th>\n",
       "      <td>5</td>\n",
       "      <td>2405.0</td>\n",
       "      <td>CHEMICAL ENGINEERING</td>\n",
       "      <td>Engineering</td>\n",
       "      <td>32260.0</td>\n",
       "      <td>289.0</td>\n",
       "      <td>21239.0</td>\n",
       "      <td>11021.0</td>\n",
       "      <td>0.341631</td>\n",
       "      <td>25694.0</td>\n",
       "      <td>...</td>\n",
       "      <td>5180.0</td>\n",
       "      <td>16697.0</td>\n",
       "      <td>1672.0</td>\n",
       "      <td>0.061098</td>\n",
       "      <td>65000.0</td>\n",
       "      <td>50000.0</td>\n",
       "      <td>75000.0</td>\n",
       "      <td>18314.0</td>\n",
       "      <td>4440.0</td>\n",
       "      <td>972.0</td>\n",
       "    </tr>\n",
       "  </tbody>\n",
       "</table>\n",
       "<p>5 rows × 21 columns</p>\n",
       "</div>"
      ],
      "text/plain": [
       "  Rank  Major_code                                      Major Major_category  \\\n",
       "0    1      2419.0                      PETROLEUM ENGINEERING    Engineering   \n",
       "1    2      2416.0             MINING AND MINERAL ENGINEERING    Engineering   \n",
       "2    3      2415.0                  METALLURGICAL ENGINEERING    Engineering   \n",
       "3    4      2417.0  NAVAL ARCHITECTURE AND MARINE ENGINEERING    Engineering   \n",
       "4    5      2405.0                       CHEMICAL ENGINEERING    Engineering   \n",
       "\n",
       "     Total  Sample_size      Men    Women  ShareWomen  Employed  ...  \\\n",
       "0   2339.0         36.0   2057.0    282.0    0.120564    1976.0  ...   \n",
       "1    756.0          7.0    679.0     77.0    0.101852     640.0  ...   \n",
       "2    856.0          3.0    725.0    131.0    0.153037     648.0  ...   \n",
       "3   1258.0         16.0   1123.0    135.0    0.107313     758.0  ...   \n",
       "4  32260.0        289.0  21239.0  11021.0    0.341631   25694.0  ...   \n",
       "\n",
       "   Part_time  Full_time_year_round  Unemployed  Unemployment_rate    Median  \\\n",
       "0      270.0                1207.0        37.0           0.018381  110000.0   \n",
       "1      170.0                 388.0        85.0           0.117241   75000.0   \n",
       "2      133.0                 340.0        16.0           0.024096   73000.0   \n",
       "3      150.0                 692.0        40.0           0.050125   70000.0   \n",
       "4     5180.0               16697.0      1672.0           0.061098   65000.0   \n",
       "\n",
       "     P25th     P75th  College_jobs  Non_college_jobs  Low_wage_jobs  \n",
       "0  95000.0  125000.0        1534.0             364.0          193.0  \n",
       "1  55000.0   90000.0         350.0             257.0           50.0  \n",
       "2  50000.0  105000.0         456.0             176.0            0.0  \n",
       "3  43000.0   80000.0         529.0             102.0            0.0  \n",
       "4  50000.0   75000.0       18314.0            4440.0          972.0  \n",
       "\n",
       "[5 rows x 21 columns]"
      ]
     },
     "execution_count": 3,
     "metadata": {},
     "output_type": "execute_result"
    }
   ],
   "source": [
    "recent_grads= pd.read_csv(\"recent-grads.csv\")\n",
    "recent_grads.head(5)"
   ]
  },
  {
   "cell_type": "markdown",
   "metadata": {},
   "source": [
    "## Number of students per Major category\n"
   ]
  },
  {
   "cell_type": "markdown",
   "metadata": {},
   "source": [
    "- Return the unique values of Major_category.\n",
    ">- Use the Series.unique() method to return the unique values of a Series.\n"
   ]
  },
  {
   "cell_type": "code",
   "execution_count": 4,
   "metadata": {},
   "outputs": [
    {
     "data": {
      "text/plain": [
       "array(['Engineering', 'Business', 'Physical Sciences',\n",
       "       'Law & Public Policy', 'Computers & Mathematics',\n",
       "       'Agriculture & Natural Resources',\n",
       "       'Industrial Arts & Consumer Services', 'Arts', 'Health',\n",
       "       'Social Science', nan, 'Biology & Life Science', 'Education',\n",
       "       'Humanities & Liberal Arts', 'Psychology & Social Work',\n",
       "       'Communications & Journalism', 'Interdisciplinary'], dtype=object)"
      ]
     },
     "execution_count": 4,
     "metadata": {},
     "output_type": "execute_result"
    }
   ],
   "source": [
    "#Unique values\n",
    "values= recent_grads['Major_category'].unique()\n",
    "values"
   ]
  },
  {
   "cell_type": "markdown",
   "metadata": {},
   "source": [
    "- For each unique value (use a for? loop):\n",
    ">- Return all lines where Major_category is worth this unique value.\n",
    ">- Calculate the total number of students representing this major category (Total column to sum).\n",
    ">- You will store this result in the form of a dictionary containing a Major_category key and the number of students as a value.\n"
   ]
  },
  {
   "cell_type": "code",
   "execution_count": 5,
   "metadata": {},
   "outputs": [
    {
     "name": "stdout",
     "output_type": "stream",
     "text": [
      "{'Engineering': 537583.0, 'Business': 1302376.0, 'Physical Sciences': 183363.0, 'Law & Public Policy': 179107.0, 'Computers & Mathematics': 299008.0, 'Agriculture & Natural Resources': 79981.0, 'Industrial Arts & Consumer Services': 227357.0, 'Arts': 357130.0, 'Health': 463230.0, 'Social Science': 529966.0, nan: 0.0, 'Biology & Life Science': 453862.0, 'Education': 559129.0, 'Humanities & Liberal Arts': 713468.0, 'Psychology & Social Work': 481007.0, 'Communications & Journalism': 392601.0, 'Interdisciplinary': 12296.0}\n"
     ]
    }
   ],
   "source": [
    "# by a for loop, iterating over the unique values of major categories and making a disctionary to have the sum of total numbers over each categories\n",
    "dic_major= {}\n",
    "for i in  values:\n",
    "    l=pd.DataFrame(recent_grads.loc[recent_grads['Major_category']==i]).Total.sum()\n",
    "    dic_major[i]=l\n",
    "print(dic_major)"
   ]
  },
  {
   "cell_type": "markdown",
   "metadata": {},
   "source": []
  },
  {
   "cell_type": "markdown",
   "metadata": {},
   "source": [
    "#### Mission:\n",
    "- Create a function in which you will use the Total column to calculate the number of students for each Major category (Major_category) in each dataset.\n",
    ">- Store the result in 2 separate dictionaries.\n",
    ">- The key for each dictionary will be Major_category and the value the total number of students.\n",
    ">- For the dataset all_ages, store the result in a dictionary called aa_car_counts.\n",
    ">- For the dataset recent_grads, store the result in a dictionary called rg_cat_counts.\n",
    "- Other method: Use a table pivot.\n",
    "- Display both dictionaries.\n"
   ]
  },
  {
   "cell_type": "code",
   "execution_count": 6,
   "metadata": {},
   "outputs": [],
   "source": [
    "# First method\n",
    "\n",
    "def unique(df):\n",
    "    value= df['Major_category'].unique()\n",
    "    dic_major= {}\n",
    "    for i in  value:\n",
    "        l=pd.DataFrame(df.loc[df['Major_category']==i]).Total.sum()\n",
    "        dic_major[i]=l\n",
    "    return(dic_major)"
   ]
  },
  {
   "cell_type": "code",
   "execution_count": 28,
   "metadata": {},
   "outputs": [
    {
     "data": {
      "text/plain": [
       "{'Agriculture & Natural Resources': 632437.0,\n",
       " 'Biology & Life Science': 1338186.0,\n",
       " 'Engineering': 3576013.0,\n",
       " 'Humanities & Liberal Arts': 3738335.0,\n",
       " 'Communications & Journalism': 1803822.0,\n",
       " 'Computers & Mathematics': 1781378.0,\n",
       " 'Industrial Arts & Consumer Services': 1018072.0,\n",
       " 'Education': 4700118.0,\n",
       " 'Law & Public Policy': 902926.0,\n",
       " 'Interdisciplinary': 45199.0,\n",
       " 'Health': 2950859.0,\n",
       " 'Social Science': 2654125.0,\n",
       " 'Physical Sciences': 1013152.0,\n",
       " nan: 0.0,\n",
       " 'Psychology & Social Work': 1987278.0,\n",
       " 'Arts': 1805865.0,\n",
       " 'Business': 9858741.0}"
      ]
     },
     "execution_count": 28,
     "metadata": {},
     "output_type": "execute_result"
    }
   ],
   "source": [
    "aa_car_counts= unique(all_ages)\n",
    "aa_car_counts"
   ]
  },
  {
   "cell_type": "code",
   "execution_count": 30,
   "metadata": {},
   "outputs": [
    {
     "data": {
      "text/plain": [
       "{'Engineering': 537583.0,\n",
       " 'Business': 1302376.0,\n",
       " 'Physical Sciences': 183363.0,\n",
       " 'Law & Public Policy': 179107.0,\n",
       " 'Computers & Mathematics': 299008.0,\n",
       " 'Agriculture & Natural Resources': 79981.0,\n",
       " 'Industrial Arts & Consumer Services': 227357.0,\n",
       " 'Arts': 357130.0,\n",
       " 'Health': 463230.0,\n",
       " 'Social Science': 529966.0,\n",
       " nan: 0.0,\n",
       " 'Biology & Life Science': 453862.0,\n",
       " 'Education': 559129.0,\n",
       " 'Humanities & Liberal Arts': 713468.0,\n",
       " 'Psychology & Social Work': 481007.0,\n",
       " 'Communications & Journalism': 392601.0,\n",
       " 'Interdisciplinary': 12296.0}"
      ]
     },
     "execution_count": 30,
     "metadata": {},
     "output_type": "execute_result"
    }
   ],
   "source": [
    "\n",
    "\n",
    "rg_cat_counts= unique(recent_grads)\n",
    "rg_cat_counts\n"
   ]
  },
  {
   "cell_type": "code",
   "execution_count": 29,
   "metadata": {},
   "outputs": [],
   "source": [
    "#other method- pivot table visualization\n",
    "df= pd.DataFrame([aa_car_counts,rg_cat_counts],index=['aa_car_counts','rg_cat_counts'])"
   ]
  },
  {
   "cell_type": "code",
   "execution_count": 31,
   "metadata": {},
   "outputs": [
    {
     "data": {
      "text/html": [
       "<div>\n",
       "<style scoped>\n",
       "    .dataframe tbody tr th:only-of-type {\n",
       "        vertical-align: middle;\n",
       "    }\n",
       "\n",
       "    .dataframe tbody tr th {\n",
       "        vertical-align: top;\n",
       "    }\n",
       "\n",
       "    .dataframe thead th {\n",
       "        text-align: right;\n",
       "    }\n",
       "</style>\n",
       "<table border=\"1\" class=\"dataframe\">\n",
       "  <thead>\n",
       "    <tr style=\"text-align: right;\">\n",
       "      <th></th>\n",
       "      <th>Agriculture &amp; Natural Resources</th>\n",
       "      <th>Arts</th>\n",
       "      <th>Biology &amp; Life Science</th>\n",
       "      <th>Business</th>\n",
       "      <th>Communications &amp; Journalism</th>\n",
       "      <th>Computers &amp; Mathematics</th>\n",
       "      <th>Education</th>\n",
       "      <th>Engineering</th>\n",
       "      <th>Health</th>\n",
       "      <th>Humanities &amp; Liberal Arts</th>\n",
       "      <th>Industrial Arts &amp; Consumer Services</th>\n",
       "      <th>Interdisciplinary</th>\n",
       "      <th>Law &amp; Public Policy</th>\n",
       "      <th>Physical Sciences</th>\n",
       "      <th>Psychology &amp; Social Work</th>\n",
       "      <th>Social Science</th>\n",
       "      <th>nan</th>\n",
       "    </tr>\n",
       "  </thead>\n",
       "  <tbody>\n",
       "    <tr>\n",
       "      <th>aa_car_counts</th>\n",
       "      <td>632437.0</td>\n",
       "      <td>1805865.0</td>\n",
       "      <td>1338186.0</td>\n",
       "      <td>9858741.0</td>\n",
       "      <td>1803822.0</td>\n",
       "      <td>1781378.0</td>\n",
       "      <td>4700118.0</td>\n",
       "      <td>3576013.0</td>\n",
       "      <td>2950859.0</td>\n",
       "      <td>3738335.0</td>\n",
       "      <td>1018072.0</td>\n",
       "      <td>45199.0</td>\n",
       "      <td>902926.0</td>\n",
       "      <td>1013152.0</td>\n",
       "      <td>1987278.0</td>\n",
       "      <td>2654125.0</td>\n",
       "      <td>0.0</td>\n",
       "    </tr>\n",
       "    <tr>\n",
       "      <th>rg_cat_counts</th>\n",
       "      <td>79981.0</td>\n",
       "      <td>357130.0</td>\n",
       "      <td>453862.0</td>\n",
       "      <td>1302376.0</td>\n",
       "      <td>392601.0</td>\n",
       "      <td>299008.0</td>\n",
       "      <td>559129.0</td>\n",
       "      <td>537583.0</td>\n",
       "      <td>463230.0</td>\n",
       "      <td>713468.0</td>\n",
       "      <td>227357.0</td>\n",
       "      <td>12296.0</td>\n",
       "      <td>179107.0</td>\n",
       "      <td>183363.0</td>\n",
       "      <td>481007.0</td>\n",
       "      <td>529966.0</td>\n",
       "      <td>0.0</td>\n",
       "    </tr>\n",
       "  </tbody>\n",
       "</table>\n",
       "</div>"
      ],
      "text/plain": [
       "               Agriculture & Natural Resources       Arts  \\\n",
       "aa_car_counts                         632437.0  1805865.0   \n",
       "rg_cat_counts                          79981.0   357130.0   \n",
       "\n",
       "               Biology & Life Science   Business  Communications & Journalism  \\\n",
       "aa_car_counts               1338186.0  9858741.0                    1803822.0   \n",
       "rg_cat_counts                453862.0  1302376.0                     392601.0   \n",
       "\n",
       "               Computers & Mathematics  Education  Engineering     Health  \\\n",
       "aa_car_counts                1781378.0  4700118.0    3576013.0  2950859.0   \n",
       "rg_cat_counts                 299008.0   559129.0     537583.0   463230.0   \n",
       "\n",
       "               Humanities & Liberal Arts  Industrial Arts & Consumer Services  \\\n",
       "aa_car_counts                  3738335.0                            1018072.0   \n",
       "rg_cat_counts                   713468.0                             227357.0   \n",
       "\n",
       "               Interdisciplinary  Law & Public Policy  Physical Sciences  \\\n",
       "aa_car_counts            45199.0             902926.0          1013152.0   \n",
       "rg_cat_counts            12296.0             179107.0           183363.0   \n",
       "\n",
       "               Psychology & Social Work  Social Science  NaN  \n",
       "aa_car_counts                 1987278.0       2654125.0  0.0  \n",
       "rg_cat_counts                  481007.0        529966.0  0.0  "
      ]
     },
     "execution_count": 31,
     "metadata": {},
     "output_type": "execute_result"
    }
   ],
   "source": [
    "pd.pivot_table(data=df, index= df.index)"
   ]
  },
  {
   "cell_type": "code",
   "execution_count": null,
   "metadata": {},
   "outputs": [],
   "source": []
  },
  {
   "cell_type": "code",
   "execution_count": null,
   "metadata": {},
   "outputs": [],
   "source": []
  },
  {
   "cell_type": "markdown",
   "metadata": {},
   "source": [
    "## Low-wage job rate\n"
   ]
  },
  {
   "cell_type": "markdown",
   "metadata": {},
   "source": [
    "- Use the columns \"Low_wage_jobs\" and \"Total\" to calculate the proportion of young graduates who had to find low-wage jobs (recent_grads).\n",
    ">- Remember that you can use the Series.sum() method to return the sum of the values of a column\n",
    "- Store the result in the variable low_wage_proportion and display it.\n"
   ]
  },
  {
   "cell_type": "code",
   "execution_count": 32,
   "metadata": {},
   "outputs": [
    {
     "data": {
      "text/plain": [
       "15.458448199595647"
      ]
     },
     "execution_count": 32,
     "metadata": {},
     "output_type": "execute_result"
    }
   ],
   "source": [
    "\n",
    "recent_grads['proportion_low_wage']=  recent_grads['Low_wage_jobs']/recent_grads['Total']\n",
    "low_wage_proportion= recent_grads.proportion_low_wage.sum()\n",
    "low_wage_proportion"
   ]
  },
  {
   "cell_type": "code",
   "execution_count": 33,
   "metadata": {},
   "outputs": [
    {
     "data": {
      "text/plain": [
       "0      0.082514\n",
       "1      0.066138\n",
       "2      0.000000\n",
       "3      0.000000\n",
       "4      0.030130\n",
       "5      0.094831\n",
       "6      0.068573\n",
       "7      0.122768\n",
       "8      0.035658\n",
       "9      0.038883\n",
       "10     0.023591\n",
       "11     0.024704\n",
       "12     0.052758\n",
       "13     0.018930\n",
       "14     0.060866\n",
       "15     0.058711\n",
       "16     0.033741\n",
       "17     0.052198\n",
       "18     0.048496\n",
       "19     0.125436\n",
       "20     0.040088\n",
       "21     0.111213\n",
       "22     0.060182\n",
       "23     0.023388\n",
       "24     0.037835\n",
       "25     0.054541\n",
       "26     0.038004\n",
       "27     0.024293\n",
       "28     0.039965\n",
       "29     0.056875\n",
       "         ...   \n",
       "143    0.165992\n",
       "144    0.091161\n",
       "145    0.122435\n",
       "146    0.153151\n",
       "147    0.072378\n",
       "148    0.162910\n",
       "149    0.159592\n",
       "150    0.090481\n",
       "151    0.081117\n",
       "152    0.098503\n",
       "153    0.174769\n",
       "154    0.049990\n",
       "155    0.171375\n",
       "156    0.077235\n",
       "157    0.171527\n",
       "158    0.109379\n",
       "159    0.211227\n",
       "160    0.300951\n",
       "161    0.020833\n",
       "162    0.176758\n",
       "163    0.133885\n",
       "164    0.076299\n",
       "165    0.099518\n",
       "166    0.255913\n",
       "167    0.182873\n",
       "168    0.088358\n",
       "169    0.028732\n",
       "170    0.219168\n",
       "171    0.066580\n",
       "172    0.174863\n",
       "Name: proportion_low_wage, Length: 173, dtype: float64"
      ]
     },
     "execution_count": 33,
     "metadata": {},
     "output_type": "execute_result"
    }
   ],
   "source": [
    "#Only to visualize the recent grads (proportion low wage column)\n",
    "recent_grads['proportion_low_wage']"
   ]
  },
  {
   "cell_type": "markdown",
   "metadata": {},
   "source": [
    "## Compare datasets\n"
   ]
  },
  {
   "cell_type": "markdown",
   "metadata": {},
   "source": [
    "- Use a for loop to browse all majors.\n",
    ">- For each major and each DataFrame, filter only the lines of the DataFrame corresponding to that major.\n",
    ">- Compare the values for the \"Unemployment_rate\" column to see which of the 2 DataFrames has the lowest value.\n",
    ">- Increment (cad add 1) to the rg_lower_count variable if the value for Unemployment_rate is smaller in dataframe recent_grads than in dataframe all_ages\n",
    "- Display the result rg_lower_count.\n"
   ]
  },
  {
   "cell_type": "code",
   "execution_count": 25,
   "metadata": {},
   "outputs": [],
   "source": [
    "\n",
    "rg_lower_count= 0\n",
    "unemp_comp={}\n",
    "value_aa= all_ages['Major_category'].unique()\n",
    "for i in value_aa:\n",
    "    lines_by_major_aa= all_ages[all_ages[\"Major_category\"]== i]\n",
    "    lines_by_major_rg= recent_grads[recent_grads[\"Major_category\"]==i]\n",
    "    unemployment_rate_aa= lines_by_major_aa['Unemployment_rate'].sum()\n",
    "    unemployment_rate_rg= lines_by_major_rg['Unemployment_rate'].sum()\n",
    "    unemp_comp[i]=unemployment_rate_aa > unemployment_rate_rg\n",
    "    if (unemployment_rate_rg < unemployment_rate_aa):\n",
    "        rg_lower_count= rg_lower_count+1\n",
    "\n"
   ]
  },
  {
   "cell_type": "code",
   "execution_count": 26,
   "metadata": {},
   "outputs": [
    {
     "data": {
      "text/plain": [
       "4"
      ]
     },
     "execution_count": 26,
     "metadata": {},
     "output_type": "execute_result"
    }
   ],
   "source": [
    "rg_lower_count"
   ]
  },
  {
   "cell_type": "code",
   "execution_count": null,
   "metadata": {},
   "outputs": [],
   "source": []
  }
 ],
 "metadata": {
  "kernelspec": {
   "display_name": "Python 3",
   "language": "python",
   "name": "python3"
  },
  "language_info": {
   "codemirror_mode": {
    "name": "ipython",
    "version": 3
   },
   "file_extension": ".py",
   "mimetype": "text/x-python",
   "name": "python",
   "nbconvert_exporter": "python",
   "pygments_lexer": "ipython3",
   "version": "3.7.3"
  }
 },
 "nbformat": 4,
 "nbformat_minor": 4
}
