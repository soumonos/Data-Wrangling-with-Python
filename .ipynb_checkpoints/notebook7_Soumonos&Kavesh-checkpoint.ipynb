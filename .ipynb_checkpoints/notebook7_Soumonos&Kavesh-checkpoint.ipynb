{
 "cells": [
  {
   "cell_type": "markdown",
   "metadata": {},
   "source": [
    "# Guided project: Thanksgiving data analysis.\n"
   ]
  },
  {
   "cell_type": "markdown",
   "metadata": {},
   "source": [
    "## Introduction to the dataset\n"
   ]
  },
  {
   "cell_type": "markdown",
   "metadata": {},
   "source": [
    "- Import the pandas library.\n",
    "- Use the pandas.read_csv() function to read the thanksgiving.csv file.\n",
    ">- Specify in the function parameters the argument encoding='latin-1' because this dataset is not encoded normally.\n",
    ">- Assign the dataframe to the variable data\n",
    "- Display the first lines of data.\n",
    "- Display the column names with the columns attribute.\n"
   ]
  },
  {
   "cell_type": "code",
   "execution_count": null,
   "metadata": {},
   "outputs": [],
   "source": []
  },
  {
   "cell_type": "code",
   "execution_count": null,
   "metadata": {},
   "outputs": [],
   "source": []
  },
  {
   "cell_type": "markdown",
   "metadata": {},
   "source": [
    "## Filtering data\n"
   ]
  },
  {
   "cell_type": "markdown",
   "metadata": {},
   "source": [
    "- Use the Series.value_counts() method to display the response count for each category in the 'Do you celebrate Thanksgiving?' column.\n",
    "- Filter and save all rows of the dataframe data for which the answer to the 'Do you celebrate Thanksgiving?' question is 'Yes'.\n",
    "- Assign this new dataframe to data and display it.\n"
   ]
  },
  {
   "cell_type": "code",
   "execution_count": null,
   "metadata": {},
   "outputs": [],
   "source": []
  },
  {
   "cell_type": "code",
   "execution_count": null,
   "metadata": {},
   "outputs": [],
   "source": []
  },
  {
   "cell_type": "code",
   "execution_count": null,
   "metadata": {},
   "outputs": [],
   "source": []
  },
  {
   "cell_type": "markdown",
   "metadata": {},
   "source": [
    "## Exploring thanksgiving dinners\n"
   ]
  },
  {
   "cell_type": "markdown",
   "metadata": {},
   "source": [
    "- Use the Series.value_counts() method to display how many times each result appears for the 'What is typically the main dish at your Thanksgiving dinner?' question and column.\n",
    "- Display the 'Do you typically have gravy? column for rows in the dataframe data for which the 'What is typically the main dish at your Thanksgiving dinner? column is set to 'Tofurkey' for tofu turkey.\n",
    ">- Create a filter that selects only those rows in the dataframe data where 'What is typically the main dish at your Thanksgiving dinner?' is set to 'Tofurkey'.\n",
    ">- Assign the result to the variable tofurkey\n",
    ">- Display the 'Do you typically have gravy?' column of this new tofurkey dataframe.\n"
   ]
  },
  {
   "cell_type": "code",
   "execution_count": null,
   "metadata": {},
   "outputs": [],
   "source": []
  },
  {
   "cell_type": "code",
   "execution_count": null,
   "metadata": {},
   "outputs": [],
   "source": []
  },
  {
   "cell_type": "code",
   "execution_count": null,
   "metadata": {},
   "outputs": [],
   "source": []
  },
  {
   "cell_type": "code",
   "execution_count": null,
   "metadata": {},
   "outputs": [],
   "source": []
  },
  {
   "cell_type": "markdown",
   "metadata": {},
   "source": [
    "## Dessert trends for Thanksgiving ##\n"
   ]
  },
  {
   "cell_type": "markdown",
   "metadata": {},
   "source": [
    "- Create a Series object indicating with booleans the values of the column 'Which type of pie is typically served at your Thanksgiving dinner? Please select all that apply. - Apple' which are null. Assign the result to the variable apple_isnull.\n",
    "- Create a Series object that uses booleans to indicate the values in the column 'Which type of pie is typically served at your Thanksgiving dinner? Please select all that apply. - Pumpkin' which are null. Assign the result to the pumpkin_isnull variable.\n",
    "- Create a Series object with booleans indicating the values in the column 'Which type of pie is typically served at your Thanksgiving dinner? Please select all that apply. - Pecan' which are null. Assign the result to the variable pecan_isnull.\n",
    "- Combine these 3 Series objects with the & operator and assign the result to the pies variable.\n",
    "- Display the unique values and how many times they appear in the pies column.\n"
   ]
  },
  {
   "cell_type": "code",
   "execution_count": null,
   "metadata": {},
   "outputs": [],
   "source": []
  },
  {
   "cell_type": "code",
   "execution_count": null,
   "metadata": {},
   "outputs": [],
   "source": []
  },
  {
   "cell_type": "code",
   "execution_count": null,
   "metadata": {},
   "outputs": [],
   "source": []
  },
  {
   "cell_type": "code",
   "execution_count": null,
   "metadata": {},
   "outputs": [],
   "source": []
  },
  {
   "cell_type": "code",
   "execution_count": null,
   "metadata": {},
   "outputs": [],
   "source": []
  },
  {
   "cell_type": "markdown",
   "metadata": {},
   "source": [
    "## Convert age to a numerical value ##\n"
   ]
  },
  {
   "cell_type": "markdown",
   "metadata": {},
   "source": [
    "- Write a function that converts a string into an integer value. This will convert the values in the 'Age' column to integers. This function will take as parameter a string of characters (the current values of the column 'Age').\n",
    ">- Use the isnull() function to check if the values are null. Add an if condition that returns 'None' if the value is null.\n",
    ">- Separate strings by space (' ') and extract the first element from the resulting list (split() method)\n",
    ">- Replace the '+' character in the result with an empty string to remove it (replace() method).\n",
    ">- use int() to convert the result to an integer\n",
    ">- Return the result\n",
    "- Use the Series.apply() method to apply the function to each value in the 'Age' column of the dataframe data.\n",
    ">- Assign the result to the new int_age column of the dataframe data.\n",
    "- Call the Series.describe() method on the 'int_age' column of the dataframe data and display the result.\n"
   ]
  },
  {
   "cell_type": "code",
   "execution_count": null,
   "metadata": {},
   "outputs": [],
   "source": []
  },
  {
   "cell_type": "code",
   "execution_count": null,
   "metadata": {},
   "outputs": [],
   "source": []
  },
  {
   "cell_type": "markdown",
   "metadata": {},
   "source": [
    "## Convert income to numerical values\n"
   ]
  },
  {
   "cell_type": "markdown",
   "metadata": {},
   "source": [
    "- Write a function to convert income to a single integer format value.\n",
    ">- Use the isnull() function to check if the value is null. If it is, return 'None'.\n",
    ">- Separate the string using space as delimiter and extract the first element from the resulting list.\n",
    ">- If the result is 'Prefer', return 'none'.\n",
    ">- Replace the characters '$' and ',' with empty strings to delete them.\n",
    ">- Use int() to convert the result to an integer\n",
    ">- Return the result\n",
    "- Use the Series.apply() method to apply the above function to each value in the 'How much total combined money did all members of your HOUSEHOLD earn last year?' column of the dataframe data.\n",
    ">- Assign the result to the new column 'int_income' in the dataframe data.\n",
    "- Call the Series.describe() method to the int_income column of the dataframe data and display the result.\n"
   ]
  },
  {
   "cell_type": "code",
   "execution_count": null,
   "metadata": {},
   "outputs": [],
   "source": []
  },
  {
   "cell_type": "code",
   "execution_count": null,
   "metadata": {},
   "outputs": [],
   "source": []
  },
  {
   "cell_type": "code",
   "execution_count": null,
   "metadata": {},
   "outputs": [],
   "source": []
  },
  {
   "cell_type": "markdown",
   "metadata": {},
   "source": [
    "## Correlation between distance and income\n"
   ]
  },
  {
   "cell_type": "markdown",
   "metadata": {},
   "source": [
    "- Watch how people earning less than 150,000 dollars travel.\n",
    ">- Filter data by selecting only 'int_income' values below $150,000.\n",
    ">- Select the column 'How far will you travel for Thanksgiving? taking into account the filter\n",
    ">- Use the value_counts() method to count how many times each value appears in the column.\n",
    ">- Display the results\n",
    "- Do the same with people earning more than 150,000 dollars.\n"
   ]
  },
  {
   "cell_type": "code",
   "execution_count": null,
   "metadata": {},
   "outputs": [],
   "source": []
  },
  {
   "cell_type": "code",
   "execution_count": null,
   "metadata": {},
   "outputs": [],
   "source": []
  },
  {
   "cell_type": "markdown",
   "metadata": {},
   "source": [
    "## Link between spending Thanksgiving with friends with age and income ##\n"
   ]
  },
  {
   "cell_type": "markdown",
   "metadata": {},
   "source": [
    "- Generate a pivot table showing the average age of respondents for each category of the questions 'Have you ever tried to meet up with hometown friends on Thanksgiving night? and 'Have you ever attended a \"Friendsgiving?\"'.\n",
    ">- Call the pivot_table() method on the dataframe data\n",
    ">- Set the 'index' parameter to 'Have you ever tried to meet up with hometown friends on Thanksgiving night?'.\n",
    ">- Set the 'columns' parameter to 'Have you ever attended a \"Friendsgiving?\"'.\n",
    ">- Set the 'values' parameter to 'int_age'.\n",
    ">- Display the results\n",
    "- Do the same for revenues with these two questions.\n"
   ]
  },
  {
   "cell_type": "code",
   "execution_count": null,
   "metadata": {},
   "outputs": [],
   "source": []
  },
  {
   "cell_type": "code",
   "execution_count": null,
   "metadata": {},
   "outputs": [],
   "source": []
  },
  {
   "cell_type": "code",
   "execution_count": null,
   "metadata": {},
   "outputs": [],
   "source": []
  }
 ],
 "metadata": {
  "kernelspec": {
   "display_name": "Python 3",
   "language": "python",
   "name": "python3"
  },
  "language_info": {
   "codemirror_mode": {
    "name": "ipython",
    "version": 3
   },
   "file_extension": ".py",
   "mimetype": "text/x-python",
   "name": "python",
   "nbconvert_exporter": "python",
   "pygments_lexer": "ipython3",
   "version": "3.8.1"
  }
 },
 "nbformat": 4,
 "nbformat_minor": 2
}
