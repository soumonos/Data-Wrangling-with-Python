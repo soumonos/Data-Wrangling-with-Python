{
 "cells": [
  {
   "cell_type": "markdown",
   "metadata": {},
   "source": [
    "# All about Series Pandas\n",
    "# Coded by Soumonos Mukherjee "
   ]
  },
  {
   "cell_type": "markdown",
   "metadata": {},
   "source": [
    "- Read the file \"fandango_score_comparison.csv\" in a dataframe called fandango.\n",
    "- Display the first 2 lines of fandango.\n"
   ]
  },
  {
   "cell_type": "code",
   "execution_count": 1,
   "metadata": {},
   "outputs": [],
   "source": [
    "import pandas as pd\n",
    "import os\n",
    "os.chdir(\"C:\\\\Users\\\\User\\\\Downloads\\\\Soumonos & Kavesh\")"
   ]
  },
  {
   "cell_type": "code",
   "execution_count": 2,
   "metadata": {},
   "outputs": [
    {
     "data": {
      "text/html": [
       "<div>\n",
       "<style scoped>\n",
       "    .dataframe tbody tr th:only-of-type {\n",
       "        vertical-align: middle;\n",
       "    }\n",
       "\n",
       "    .dataframe tbody tr th {\n",
       "        vertical-align: top;\n",
       "    }\n",
       "\n",
       "    .dataframe thead th {\n",
       "        text-align: right;\n",
       "    }\n",
       "</style>\n",
       "<table border=\"1\" class=\"dataframe\">\n",
       "  <thead>\n",
       "    <tr style=\"text-align: right;\">\n",
       "      <th></th>\n",
       "      <th>FILM</th>\n",
       "      <th>RottenTomatoes</th>\n",
       "      <th>RottenTomatoes_User</th>\n",
       "      <th>Metacritic</th>\n",
       "      <th>Metacritic_User</th>\n",
       "      <th>IMDB</th>\n",
       "      <th>Fandango_Stars</th>\n",
       "      <th>Fandango_Ratingvalue</th>\n",
       "      <th>RT_norm</th>\n",
       "      <th>RT_user_norm</th>\n",
       "      <th>...</th>\n",
       "      <th>IMDB_norm</th>\n",
       "      <th>RT_norm_round</th>\n",
       "      <th>RT_user_norm_round</th>\n",
       "      <th>Metacritic_norm_round</th>\n",
       "      <th>Metacritic_user_norm_round</th>\n",
       "      <th>IMDB_norm_round</th>\n",
       "      <th>Metacritic_user_vote_count</th>\n",
       "      <th>IMDB_user_vote_count</th>\n",
       "      <th>Fandango_votes</th>\n",
       "      <th>Fandango_Difference</th>\n",
       "    </tr>\n",
       "  </thead>\n",
       "  <tbody>\n",
       "    <tr>\n",
       "      <th>0</th>\n",
       "      <td>Avengers: Age of Ultron (2015)</td>\n",
       "      <td>74</td>\n",
       "      <td>86</td>\n",
       "      <td>66</td>\n",
       "      <td>7.1</td>\n",
       "      <td>7.8</td>\n",
       "      <td>5.0</td>\n",
       "      <td>4.5</td>\n",
       "      <td>3.70</td>\n",
       "      <td>4.3</td>\n",
       "      <td>...</td>\n",
       "      <td>3.90</td>\n",
       "      <td>3.5</td>\n",
       "      <td>4.5</td>\n",
       "      <td>3.5</td>\n",
       "      <td>3.5</td>\n",
       "      <td>4.0</td>\n",
       "      <td>1330</td>\n",
       "      <td>271107</td>\n",
       "      <td>14846</td>\n",
       "      <td>0.5</td>\n",
       "    </tr>\n",
       "    <tr>\n",
       "      <th>1</th>\n",
       "      <td>Cinderella (2015)</td>\n",
       "      <td>85</td>\n",
       "      <td>80</td>\n",
       "      <td>67</td>\n",
       "      <td>7.5</td>\n",
       "      <td>7.1</td>\n",
       "      <td>5.0</td>\n",
       "      <td>4.5</td>\n",
       "      <td>4.25</td>\n",
       "      <td>4.0</td>\n",
       "      <td>...</td>\n",
       "      <td>3.55</td>\n",
       "      <td>4.5</td>\n",
       "      <td>4.0</td>\n",
       "      <td>3.5</td>\n",
       "      <td>4.0</td>\n",
       "      <td>3.5</td>\n",
       "      <td>249</td>\n",
       "      <td>65709</td>\n",
       "      <td>12640</td>\n",
       "      <td>0.5</td>\n",
       "    </tr>\n",
       "  </tbody>\n",
       "</table>\n",
       "<p>2 rows × 22 columns</p>\n",
       "</div>"
      ],
      "text/plain": [
       "                             FILM  RottenTomatoes  RottenTomatoes_User  \\\n",
       "0  Avengers: Age of Ultron (2015)              74                   86   \n",
       "1               Cinderella (2015)              85                   80   \n",
       "\n",
       "   Metacritic  Metacritic_User  IMDB  Fandango_Stars  Fandango_Ratingvalue  \\\n",
       "0          66              7.1   7.8             5.0                   4.5   \n",
       "1          67              7.5   7.1             5.0                   4.5   \n",
       "\n",
       "   RT_norm  RT_user_norm  ...  IMDB_norm  RT_norm_round  RT_user_norm_round  \\\n",
       "0     3.70           4.3  ...       3.90            3.5                 4.5   \n",
       "1     4.25           4.0  ...       3.55            4.5                 4.0   \n",
       "\n",
       "   Metacritic_norm_round  Metacritic_user_norm_round  IMDB_norm_round  \\\n",
       "0                    3.5                         3.5              4.0   \n",
       "1                    3.5                         4.0              3.5   \n",
       "\n",
       "   Metacritic_user_vote_count  IMDB_user_vote_count  Fandango_votes  \\\n",
       "0                        1330                271107           14846   \n",
       "1                         249                 65709           12640   \n",
       "\n",
       "   Fandango_Difference  \n",
       "0                  0.5  \n",
       "1                  0.5  \n",
       "\n",
       "[2 rows x 22 columns]"
      ]
     },
     "execution_count": 2,
     "metadata": {},
     "output_type": "execute_result"
    }
   ],
   "source": [
    "#displaying first 2 rows\n",
    "fandango= pd.read_csv(\"fandango_score_comparison.csv\")\n",
    "fandango.head(2)\n"
   ]
  },
  {
   "cell_type": "markdown",
   "metadata": {},
   "source": [
    "## Indexing with integers\n"
   ]
  },
  {
   "cell_type": "markdown",
   "metadata": {},
   "source": [
    "- Select the column \"FILM\" and assign it to the variable series_film and display the first 5 values.\n",
    "- Do the same with the column \"RottenTomatoes\" and assign it to the variable series_rt then display the first 5 values.\n"
   ]
  },
  {
   "cell_type": "code",
   "execution_count": 8,
   "metadata": {},
   "outputs": [
    {
     "data": {
      "text/plain": [
       "0    Avengers: Age of Ultron (2015)\n",
       "1                 Cinderella (2015)\n",
       "2                    Ant-Man (2015)\n",
       "3            Do You Believe? (2015)\n",
       "4     Hot Tub Time Machine 2 (2015)\n",
       "Name: FILM, dtype: object"
      ]
     },
     "execution_count": 8,
     "metadata": {},
     "output_type": "execute_result"
    }
   ],
   "source": [
    "# Making 2 series one with the FILM and one with the RottenTomatoes and visualizing first 5 values.\n",
    "series_film= fandango['FILM']\n",
    "series_rt= fandango['RottenTomatoes']\n",
    "series_film.head()"
   ]
  },
  {
   "cell_type": "code",
   "execution_count": 10,
   "metadata": {},
   "outputs": [
    {
     "data": {
      "text/plain": [
       "0    74\n",
       "1    85\n",
       "2    80\n",
       "3    18\n",
       "4    14\n",
       "Name: RottenTomatoes, dtype: int64"
      ]
     },
     "execution_count": 10,
     "metadata": {},
     "output_type": "execute_result"
    }
   ],
   "source": [
    "series_rt.head()"
   ]
  },
  {
   "cell_type": "code",
   "execution_count": 22,
   "metadata": {},
   "outputs": [
    {
     "data": {
      "text/plain": [
       "Index(['RottenTomatoes'], dtype='object')"
      ]
     },
     "execution_count": 22,
     "metadata": {},
     "output_type": "execute_result"
    }
   ],
   "source": [
    "\n",
    "df_q= series_rt.to_frame()\n",
    "df_q.columns"
   ]
  },
  {
   "cell_type": "markdown",
   "metadata": {},
   "source": [
    "## Customize your indexing\n"
   ]
  },
  {
   "cell_type": "markdown",
   "metadata": {},
   "source": [
    "- Create a Series object named series_custom that will have a string index (based on the movie names we assign to the variable film_names) and will contain all the RottenTomatoes notes of series_rt that we assign to the variable rt_scores.\n",
    ">- Be careful to use lists of values for our 2 parameters of the Series() method.\n",
    ">- Don't forget to import the Series object from pandas\n"
   ]
  },
  {
   "cell_type": "code",
   "execution_count": 26,
   "metadata": {},
   "outputs": [
    {
     "data": {
      "text/plain": [
       "FILM\n",
       "Avengers: Age of Ultron (2015)                     74\n",
       "Cinderella (2015)                                  85\n",
       "Ant-Man (2015)                                     80\n",
       "Do You Believe? (2015)                             18\n",
       "Hot Tub Time Machine 2 (2015)                      14\n",
       "The Water Diviner (2015)                           63\n",
       "Irrational Man (2015)                              42\n",
       "Top Five (2014)                                    86\n",
       "Shaun the Sheep Movie (2015)                       99\n",
       "Love & Mercy (2015)                                89\n",
       "Far From The Madding Crowd (2015)                  84\n",
       "Black Sea (2015)                                   82\n",
       "Leviathan (2014)                                   99\n",
       "Unbroken (2014)                                    51\n",
       "The Imitation Game (2014)                          90\n",
       "Taken 3 (2015)                                      9\n",
       "Ted 2 (2015)                                       46\n",
       "Southpaw (2015)                                    59\n",
       "Night at the Museum: Secret of the Tomb (2014)     50\n",
       "Pixels (2015)                                      17\n",
       "McFarland, USA (2015)                              79\n",
       "Insidious: Chapter 3 (2015)                        59\n",
       "The Man From U.N.C.L.E. (2015)                     68\n",
       "Run All Night (2015)                               60\n",
       "Trainwreck (2015)                                  85\n",
       "Selma (2014)                                       99\n",
       "Ex Machina (2015)                                  92\n",
       "Still Alice (2015)                                 88\n",
       "Wild Tales (2014)                                  96\n",
       "The End of the Tour (2015)                         92\n",
       "                                                 ... \n",
       "Clouds of Sils Maria (2015)                        89\n",
       "Testament of Youth (2015)                          81\n",
       "Infinitely Polar Bear (2015)                       80\n",
       "Phoenix (2015)                                     99\n",
       "The Wolfpack (2015)                                84\n",
       "The Stanford Prison Experiment (2015)              84\n",
       "Tangerine (2015)                                   95\n",
       "Magic Mike XXL (2015)                              62\n",
       "Home (2015)                                        45\n",
       "The Wedding Ringer (2015)                          27\n",
       "Woman in Gold (2015)                               52\n",
       "The Last Five Years (2015)                         60\n",
       "Mission: Impossible â€“ Rogue Nation (2015)        92\n",
       "Amy (2015)                                         97\n",
       "Jurassic World (2015)                              71\n",
       "Minions (2015)                                     54\n",
       "Max (2015)                                         35\n",
       "Paul Blart: Mall Cop 2 (2015)                       5\n",
       "The Longest Ride (2015)                            31\n",
       "The Lazarus Effect (2015)                          14\n",
       "The Woman In Black 2 Angel of Death (2015)         22\n",
       "Danny Collins (2015)                               77\n",
       "Spare Parts (2015)                                 52\n",
       "Serena (2015)                                      18\n",
       "Inside Out (2015)                                  98\n",
       "Mr. Holmes (2015)                                  87\n",
       "'71 (2015)                                         97\n",
       "Two Days, One Night (2014)                         97\n",
       "Gett: The Trial of Viviane Amsalem (2015)         100\n",
       "Kumiko, The Treasure Hunter (2015)                 87\n",
       "Length: 146, dtype: int64"
      ]
     },
     "execution_count": 26,
     "metadata": {},
     "output_type": "execute_result"
    }
   ],
   "source": [
    "#Building a series called series_custom with the film names as index and rottentomatoes scores as values \n",
    "series_custom= pd.Series(list(series_rt), index= series_film)\n",
    "series_custom"
   ]
  },
  {
   "cell_type": "code",
   "execution_count": null,
   "metadata": {},
   "outputs": [],
   "source": []
  },
  {
   "cell_type": "code",
   "execution_count": null,
   "metadata": {},
   "outputs": [],
   "source": []
  },
  {
   "cell_type": "code",
   "execution_count": null,
   "metadata": {},
   "outputs": [],
   "source": []
  },
  {
   "cell_type": "markdown",
   "metadata": {},
   "source": [
    "## Re-index a Series object\n"
   ]
  },
  {
   "cell_type": "markdown",
   "metadata": {},
   "source": [
    "- Create the original_index list containing the current index from the index attribute.\n",
    "- Sort this index using the sorted() method and assign the result to the sorted_index variable.\n",
    "- Then apply the reindex() method to our Series custom_series to reindex according to the sorted_index index.\n",
    "- Store the result in the sorted_by_index variable.\n",
    "- Display the result.\n"
   ]
  },
  {
   "cell_type": "code",
   "execution_count": 34,
   "metadata": {},
   "outputs": [],
   "source": [
    "#Making original_index list with the previous indexes.\n",
    "original_index= list(series_custom.index)\n",
    "#Sorting the index list\n",
    "sorted_index= sorted(original_index)\n",
    "#Reindexing series_custom with the sorted index list\n",
    "sorted_by_index= series_custom.reindex(sorted_index)"
   ]
  },
  {
   "cell_type": "code",
   "execution_count": 35,
   "metadata": {},
   "outputs": [
    {
     "data": {
      "text/plain": [
       "FILM\n",
       "'71 (2015)                    97\n",
       "5 Flights Up (2015)           52\n",
       "A Little Chaos (2015)         40\n",
       "A Most Violent Year (2014)    90\n",
       "About Elly (2015)             97\n",
       "dtype: int64"
      ]
     },
     "execution_count": 35,
     "metadata": {},
     "output_type": "execute_result"
    }
   ],
   "source": [
    "sorted_by_index.head()"
   ]
  },
  {
   "cell_type": "markdown",
   "metadata": {},
   "source": [
    "## Sort a Series object\n"
   ]
  },
  {
   "cell_type": "markdown",
   "metadata": {},
   "source": [
    "- Sort the Series series series_custom by index using the sort_index() method and assign the result to the sc2 variable.\n",
    "- Sort the Series series series_custom by values and assign the result to the sc3 variable.\n",
    "- Display the first 10 values of sc2 and sc3.\n"
   ]
  },
  {
   "cell_type": "code",
   "execution_count": 38,
   "metadata": {},
   "outputs": [],
   "source": [
    "#Sorting the series_custom by index directly by inbuilt function\n",
    "sc2= series_custom.sort_index(inplace=False)\n",
    "#Sorting the series_custom by values by inbuilt function\n",
    "sc3= series_custom.sort_values(inplace=False)"
   ]
  },
  {
   "cell_type": "code",
   "execution_count": 39,
   "metadata": {},
   "outputs": [
    {
     "data": {
      "text/plain": [
       "FILM\n",
       "'71 (2015)                    97\n",
       "5 Flights Up (2015)           52\n",
       "A Little Chaos (2015)         40\n",
       "A Most Violent Year (2014)    90\n",
       "About Elly (2015)             97\n",
       "Aloha (2015)                  19\n",
       "American Sniper (2015)        72\n",
       "American Ultra (2015)         46\n",
       "Amy (2015)                    97\n",
       "Annie (2014)                  27\n",
       "dtype: int64"
      ]
     },
     "execution_count": 39,
     "metadata": {},
     "output_type": "execute_result"
    }
   ],
   "source": [
    "#Visualizing sc2\n",
    "sc2.head(10)"
   ]
  },
  {
   "cell_type": "code",
   "execution_count": 40,
   "metadata": {},
   "outputs": [
    {
     "data": {
      "text/plain": [
       "FILM\n",
       "Paul Blart: Mall Cop 2 (2015)     5\n",
       "Hitman: Agent 47 (2015)           7\n",
       "Hot Pursuit (2015)                8\n",
       "Fantastic Four (2015)             9\n",
       "Taken 3 (2015)                    9\n",
       "The Boy Next Door (2015)         10\n",
       "The Loft (2015)                  11\n",
       "Unfinished Business (2015)       11\n",
       "Mortdecai (2015)                 12\n",
       "Seventh Son (2015)               12\n",
       "dtype: int64"
      ]
     },
     "execution_count": 40,
     "metadata": {},
     "output_type": "execute_result"
    }
   ],
   "source": [
    "#visualizing sc3\n",
    "sc3.head(10)"
   ]
  },
  {
   "cell_type": "markdown",
   "metadata": {},
   "source": [
    "## Column transformation\n"
   ]
  },
  {
   "cell_type": "markdown",
   "metadata": {},
   "source": [
    "- Normalize the Series series_custom (score scale from 0 to 100) to obtain a score scale from 0 to 5 by dividing the object by 20.\n",
    "- Assign the new Series object to the series_normalized variable.\n",
    "- Display the result.\n"
   ]
  },
  {
   "cell_type": "code",
   "execution_count": 44,
   "metadata": {},
   "outputs": [
    {
     "data": {
      "text/plain": [
       "FILM\n",
       "Avengers: Age of Ultron (2015)    3.70\n",
       "Cinderella (2015)                 4.25\n",
       "Ant-Man (2015)                    4.00\n",
       "Do You Believe? (2015)            0.90\n",
       "Hot Tub Time Machine 2 (2015)     0.70\n",
       "dtype: float64"
      ]
     },
     "execution_count": 44,
     "metadata": {},
     "output_type": "execute_result"
    }
   ],
   "source": [
    "#normalizing the series_custom values by apply() and with a function to divide each item by 20\n",
    "series_normalized= series_custom.apply(lambda x: x/20)\n",
    "series_normalized.head()"
   ]
  },
  {
   "cell_type": "markdown",
   "metadata": {},
   "source": [
    "## Compare and filter\n"
   ]
  },
  {
   "cell_type": "markdown",
   "metadata": {},
   "source": [
    "- Assign to the criteria_one variable the criterion for customer_series values greater than 50.\n",
    "- Assign the criteria_two variable the criterion for customer_series values less than 75.\n",
    "- Return a new filtered Series object named both_criteria which contains only the values for which both criteria are true.\n",
    "- Display this last result.\n"
   ]
  },
  {
   "cell_type": "code",
   "execution_count": 53,
   "metadata": {},
   "outputs": [],
   "source": [
    "#customizing and filtering column values as per instructions given\n",
    "criteria_one = series_custom.loc[series_custom.values > 50]\n",
    "criteria_two = series_custom.loc[series_custom.values < 75]\n",
    "both_criteria= series_custom.loc[(series_custom.values > 50) & (series_custom.values < 75) ]\n"
   ]
  },
  {
   "cell_type": "code",
   "execution_count": 54,
   "metadata": {},
   "outputs": [
    {
     "data": {
      "text/plain": [
       "FILM\n",
       "Avengers: Age of Ultron (2015)                                             74\n",
       "Cinderella (2015)                                                          85\n",
       "Ant-Man (2015)                                                             80\n",
       "The Water Diviner (2015)                                                   63\n",
       "Top Five (2014)                                                            86\n",
       "Shaun the Sheep Movie (2015)                                               99\n",
       "Love & Mercy (2015)                                                        89\n",
       "Far From The Madding Crowd (2015)                                          84\n",
       "Black Sea (2015)                                                           82\n",
       "Leviathan (2014)                                                           99\n",
       "Unbroken (2014)                                                            51\n",
       "The Imitation Game (2014)                                                  90\n",
       "Southpaw (2015)                                                            59\n",
       "McFarland, USA (2015)                                                      79\n",
       "Insidious: Chapter 3 (2015)                                                59\n",
       "The Man From U.N.C.L.E. (2015)                                             68\n",
       "Run All Night (2015)                                                       60\n",
       "Trainwreck (2015)                                                          85\n",
       "Selma (2014)                                                               99\n",
       "Ex Machina (2015)                                                          92\n",
       "Still Alice (2015)                                                         88\n",
       "Wild Tales (2014)                                                          96\n",
       "The End of the Tour (2015)                                                 92\n",
       "Red Army (2015)                                                            96\n",
       "When Marnie Was There (2015)                                               89\n",
       "The Hunting Ground (2015)                                                  92\n",
       "5 Flights Up (2015)                                                        52\n",
       "Welcome to Me (2015)                                                       71\n",
       "Saint Laurent (2015)                                                       51\n",
       "Maps to the Stars (2015)                                                   60\n",
       "                                                                         ... \n",
       "The Second Best Exotic Marigold Hotel (2015)                               62\n",
       "The 100-Year-Old Man Who Climbed Out the Window and Disappeared (2015)     67\n",
       "Escobar: Paradise Lost (2015)                                              52\n",
       "Into the Woods (2014)                                                      71\n",
       "It Follows (2015)                                                          96\n",
       "Inherent Vice (2014)                                                       73\n",
       "A Most Violent Year (2014)                                                 90\n",
       "While We're Young (2015)                                                   83\n",
       "Clouds of Sils Maria (2015)                                                89\n",
       "Testament of Youth (2015)                                                  81\n",
       "Infinitely Polar Bear (2015)                                               80\n",
       "Phoenix (2015)                                                             99\n",
       "The Wolfpack (2015)                                                        84\n",
       "The Stanford Prison Experiment (2015)                                      84\n",
       "Tangerine (2015)                                                           95\n",
       "Magic Mike XXL (2015)                                                      62\n",
       "Woman in Gold (2015)                                                       52\n",
       "The Last Five Years (2015)                                                 60\n",
       "Mission: Impossible â€“ Rogue Nation (2015)                                92\n",
       "Amy (2015)                                                                 97\n",
       "Jurassic World (2015)                                                      71\n",
       "Minions (2015)                                                             54\n",
       "Danny Collins (2015)                                                       77\n",
       "Spare Parts (2015)                                                         52\n",
       "Inside Out (2015)                                                          98\n",
       "Mr. Holmes (2015)                                                          87\n",
       "'71 (2015)                                                                 97\n",
       "Two Days, One Night (2014)                                                 97\n",
       "Gett: The Trial of Viviane Amsalem (2015)                                 100\n",
       "Kumiko, The Treasure Hunter (2015)                                         87\n",
       "Length: 94, dtype: int64"
      ]
     },
     "execution_count": 54,
     "metadata": {},
     "output_type": "execute_result"
    }
   ],
   "source": [
    "criteria_one"
   ]
  },
  {
   "cell_type": "code",
   "execution_count": 55,
   "metadata": {},
   "outputs": [
    {
     "data": {
      "text/plain": [
       "FILM\n",
       "Avengers: Age of Ultron (2015)                                            74\n",
       "Do You Believe? (2015)                                                    18\n",
       "Hot Tub Time Machine 2 (2015)                                             14\n",
       "The Water Diviner (2015)                                                  63\n",
       "Irrational Man (2015)                                                     42\n",
       "Unbroken (2014)                                                           51\n",
       "Taken 3 (2015)                                                             9\n",
       "Ted 2 (2015)                                                              46\n",
       "Southpaw (2015)                                                           59\n",
       "Night at the Museum: Secret of the Tomb (2014)                            50\n",
       "Pixels (2015)                                                             17\n",
       "Insidious: Chapter 3 (2015)                                               59\n",
       "The Man From U.N.C.L.E. (2015)                                            68\n",
       "Run All Night (2015)                                                      60\n",
       "The Boy Next Door (2015)                                                  10\n",
       "Aloha (2015)                                                              19\n",
       "The Loft (2015)                                                           11\n",
       "5 Flights Up (2015)                                                       52\n",
       "Welcome to Me (2015)                                                      71\n",
       "Saint Laurent (2015)                                                      51\n",
       "Maps to the Stars (2015)                                                  60\n",
       "Tomorrowland (2015)                                                       50\n",
       "The Divergent Series: Insurgent (2015)                                    30\n",
       "Annie (2014)                                                              27\n",
       "Fantastic Four (2015)                                                      9\n",
       "Terminator Genisys (2015)                                                 26\n",
       "Pitch Perfect 2 (2015)                                                    67\n",
       "Entourage (2015)                                                          32\n",
       "The Age of Adaline (2015)                                                 54\n",
       "Hot Pursuit (2015)                                                         8\n",
       "                                                                          ..\n",
       "Fifty Shades of Grey (2015)                                               25\n",
       "Get Hard (2015)                                                           29\n",
       "Focus (2015)                                                              57\n",
       "Jupiter Ascending (2015)                                                  26\n",
       "The Gallows (2015)                                                        16\n",
       "The Second Best Exotic Marigold Hotel (2015)                              62\n",
       "Strange Magic (2015)                                                      17\n",
       "The Gunman (2015)                                                         17\n",
       "Hitman: Agent 47 (2015)                                                    7\n",
       "Cake (2015)                                                               49\n",
       "The Vatican Tapes (2015)                                                  13\n",
       "A Little Chaos (2015)                                                     40\n",
       "The 100-Year-Old Man Who Climbed Out the Window and Disappeared (2015)    67\n",
       "Escobar: Paradise Lost (2015)                                             52\n",
       "Into the Woods (2014)                                                     71\n",
       "Inherent Vice (2014)                                                      73\n",
       "Magic Mike XXL (2015)                                                     62\n",
       "Home (2015)                                                               45\n",
       "The Wedding Ringer (2015)                                                 27\n",
       "Woman in Gold (2015)                                                      52\n",
       "The Last Five Years (2015)                                                60\n",
       "Jurassic World (2015)                                                     71\n",
       "Minions (2015)                                                            54\n",
       "Max (2015)                                                                35\n",
       "Paul Blart: Mall Cop 2 (2015)                                              5\n",
       "The Longest Ride (2015)                                                   31\n",
       "The Lazarus Effect (2015)                                                 14\n",
       "The Woman In Black 2 Angel of Death (2015)                                22\n",
       "Spare Parts (2015)                                                        52\n",
       "Serena (2015)                                                             18\n",
       "Length: 85, dtype: int64"
      ]
     },
     "execution_count": 55,
     "metadata": {},
     "output_type": "execute_result"
    }
   ],
   "source": [
    "criteria_two"
   ]
  },
  {
   "cell_type": "code",
   "execution_count": 56,
   "metadata": {},
   "outputs": [
    {
     "data": {
      "text/plain": [
       "FILM\n",
       "Avengers: Age of Ultron (2015)                                            74\n",
       "The Water Diviner (2015)                                                  63\n",
       "Unbroken (2014)                                                           51\n",
       "Southpaw (2015)                                                           59\n",
       "Insidious: Chapter 3 (2015)                                               59\n",
       "The Man From U.N.C.L.E. (2015)                                            68\n",
       "Run All Night (2015)                                                      60\n",
       "5 Flights Up (2015)                                                       52\n",
       "Welcome to Me (2015)                                                      71\n",
       "Saint Laurent (2015)                                                      51\n",
       "Maps to the Stars (2015)                                                  60\n",
       "Pitch Perfect 2 (2015)                                                    67\n",
       "The Age of Adaline (2015)                                                 54\n",
       "The DUFF (2015)                                                           71\n",
       "Ricki and the Flash (2015)                                                64\n",
       "Unfriended (2015)                                                         60\n",
       "American Sniper (2015)                                                    72\n",
       "The Hobbit: The Battle of the Five Armies (2014)                          61\n",
       "Paper Towns (2015)                                                        55\n",
       "Big Eyes (2014)                                                           72\n",
       "Maggie (2015)                                                             54\n",
       "Focus (2015)                                                              57\n",
       "The Second Best Exotic Marigold Hotel (2015)                              62\n",
       "The 100-Year-Old Man Who Climbed Out the Window and Disappeared (2015)    67\n",
       "Escobar: Paradise Lost (2015)                                             52\n",
       "Into the Woods (2014)                                                     71\n",
       "Inherent Vice (2014)                                                      73\n",
       "Magic Mike XXL (2015)                                                     62\n",
       "Woman in Gold (2015)                                                      52\n",
       "The Last Five Years (2015)                                                60\n",
       "Jurassic World (2015)                                                     71\n",
       "Minions (2015)                                                            54\n",
       "Spare Parts (2015)                                                        52\n",
       "dtype: int64"
      ]
     },
     "execution_count": 56,
     "metadata": {},
     "output_type": "execute_result"
    }
   ],
   "source": [
    "both_criteria"
   ]
  },
  {
   "cell_type": "markdown",
   "metadata": {},
   "source": [
    "## Data alignment\n"
   ]
  },
  {
   "cell_type": "code",
   "execution_count": null,
   "metadata": {},
   "outputs": [],
   "source": []
  },
  {
   "cell_type": "code",
   "execution_count": null,
   "metadata": {},
   "outputs": [],
   "source": []
  },
  {
   "cell_type": "markdown",
   "metadata": {},
   "source": [
    "- Create the Series rt_critics that indexes the values of the RottenTomatoes column notes (review notes) with the name of the movies as index (FILM column).\n",
    "- Create the Series rt_users which indexes the values of the RottenTomatoes_User column notes (user notes) with the name of the movies as index (FILM column).\n",
    "- rt_critics and rt_users are thus 2 Series objects containing the average of the critics' and users' scores for each movie.\n",
    "- Since each Series uses the same index (corresponding to the movie names), use mathematical operations to return the average of the critics' and users' scores for each movie.\n",
    "- Assign the resulting Series to the variable rt_mean.\n",
    "- Display the result.\n"
   ]
  },
  {
   "cell_type": "code",
   "execution_count": 72,
   "metadata": {},
   "outputs": [],
   "source": [
    "#making a series with the rotten tomatoes reviews (critic reviews) and index- film names\n",
    "rt_critics = pd.Series(data= list(fandango['RottenTomatoes']),index= fandango['FILM'] )\n",
    "#making a series with the user reviews and index- film names\n",
    "rt_users= pd.Series(data= list(fandango['RottenTomatoes_User']),index= fandango['FILM'] )\n"
   ]
  },
  {
   "cell_type": "code",
   "execution_count": 73,
   "metadata": {},
   "outputs": [
    {
     "data": {
      "text/html": [
       "<div>\n",
       "<style scoped>\n",
       "    .dataframe tbody tr th:only-of-type {\n",
       "        vertical-align: middle;\n",
       "    }\n",
       "\n",
       "    .dataframe tbody tr th {\n",
       "        vertical-align: top;\n",
       "    }\n",
       "\n",
       "    .dataframe thead th {\n",
       "        text-align: right;\n",
       "    }\n",
       "</style>\n",
       "<table border=\"1\" class=\"dataframe\">\n",
       "  <thead>\n",
       "    <tr style=\"text-align: right;\">\n",
       "      <th></th>\n",
       "      <th>critic_ratings</th>\n",
       "      <th>users_ratings</th>\n",
       "    </tr>\n",
       "    <tr>\n",
       "      <th>FILM</th>\n",
       "      <th></th>\n",
       "      <th></th>\n",
       "    </tr>\n",
       "  </thead>\n",
       "  <tbody>\n",
       "    <tr>\n",
       "      <th>Avengers: Age of Ultron (2015)</th>\n",
       "      <td>74</td>\n",
       "      <td>86</td>\n",
       "    </tr>\n",
       "    <tr>\n",
       "      <th>Cinderella (2015)</th>\n",
       "      <td>85</td>\n",
       "      <td>80</td>\n",
       "    </tr>\n",
       "    <tr>\n",
       "      <th>Ant-Man (2015)</th>\n",
       "      <td>80</td>\n",
       "      <td>90</td>\n",
       "    </tr>\n",
       "    <tr>\n",
       "      <th>Do You Believe? (2015)</th>\n",
       "      <td>18</td>\n",
       "      <td>84</td>\n",
       "    </tr>\n",
       "    <tr>\n",
       "      <th>Hot Tub Time Machine 2 (2015)</th>\n",
       "      <td>14</td>\n",
       "      <td>28</td>\n",
       "    </tr>\n",
       "  </tbody>\n",
       "</table>\n",
       "</div>"
      ],
      "text/plain": [
       "                                critic_ratings  users_ratings\n",
       "FILM                                                         \n",
       "Avengers: Age of Ultron (2015)              74             86\n",
       "Cinderella (2015)                           85             80\n",
       "Ant-Man (2015)                              80             90\n",
       "Do You Believe? (2015)                      18             84\n",
       "Hot Tub Time Machine 2 (2015)               14             28"
      ]
     },
     "execution_count": 73,
     "metadata": {},
     "output_type": "execute_result"
    }
   ],
   "source": [
    "# For ease of visualizing the data, I created this dataframe\n",
    "df_qn = pd.concat([rt_critics,rt_users],axis=1)\n",
    "df_qn.columns= ['critic_ratings','users_ratings']\n",
    "\n",
    "df_qn.head()"
   ]
  },
  {
   "cell_type": "code",
   "execution_count": 71,
   "metadata": {},
   "outputs": [
    {
     "data": {
      "text/plain": [
       "FILM\n",
       "Avengers: Age of Ultron (2015)                    80.0\n",
       "Cinderella (2015)                                 82.5\n",
       "Ant-Man (2015)                                    85.0\n",
       "Do You Believe? (2015)                            51.0\n",
       "Hot Tub Time Machine 2 (2015)                     21.0\n",
       "The Water Diviner (2015)                          62.5\n",
       "Irrational Man (2015)                             47.5\n",
       "Top Five (2014)                                   75.0\n",
       "Shaun the Sheep Movie (2015)                      90.5\n",
       "Love & Mercy (2015)                               88.0\n",
       "Far From The Madding Crowd (2015)                 80.5\n",
       "Black Sea (2015)                                  71.0\n",
       "Leviathan (2014)                                  89.0\n",
       "Unbroken (2014)                                   60.5\n",
       "The Imitation Game (2014)                         91.0\n",
       "Taken 3 (2015)                                    27.5\n",
       "Ted 2 (2015)                                      52.0\n",
       "Southpaw (2015)                                   69.5\n",
       "Night at the Museum: Secret of the Tomb (2014)    54.0\n",
       "Pixels (2015)                                     35.5\n",
       "McFarland, USA (2015)                             84.0\n",
       "Insidious: Chapter 3 (2015)                       57.5\n",
       "The Man From U.N.C.L.E. (2015)                    74.0\n",
       "Run All Night (2015)                              59.5\n",
       "Trainwreck (2015)                                 79.5\n",
       "Selma (2014)                                      92.5\n",
       "Ex Machina (2015)                                 89.0\n",
       "Still Alice (2015)                                86.5\n",
       "Wild Tales (2014)                                 94.0\n",
       "The End of the Tour (2015)                        90.5\n",
       "                                                  ... \n",
       "Clouds of Sils Maria (2015)                       78.0\n",
       "Testament of Youth (2015)                         80.0\n",
       "Infinitely Polar Bear (2015)                      78.0\n",
       "Phoenix (2015)                                    90.0\n",
       "The Wolfpack (2015)                               78.5\n",
       "The Stanford Prison Experiment (2015)             85.5\n",
       "Tangerine (2015)                                  90.5\n",
       "Magic Mike XXL (2015)                             63.0\n",
       "Home (2015)                                       55.0\n",
       "The Wedding Ringer (2015)                         46.5\n",
       "Woman in Gold (2015)                              66.5\n",
       "The Last Five Years (2015)                        60.0\n",
       "Mission: Impossible â€“ Rogue Nation (2015)       91.0\n",
       "Amy (2015)                                        94.0\n",
       "Jurassic World (2015)                             76.0\n",
       "Minions (2015)                                    53.0\n",
       "Max (2015)                                        54.0\n",
       "Paul Blart: Mall Cop 2 (2015)                     20.5\n",
       "The Longest Ride (2015)                           52.0\n",
       "The Lazarus Effect (2015)                         18.5\n",
       "The Woman In Black 2 Angel of Death (2015)        23.5\n",
       "Danny Collins (2015)                              76.0\n",
       "Spare Parts (2015)                                67.5\n",
       "Serena (2015)                                     21.5\n",
       "Inside Out (2015)                                 94.0\n",
       "Mr. Holmes (2015)                                 82.5\n",
       "'71 (2015)                                        89.5\n",
       "Two Days, One Night (2014)                        87.5\n",
       "Gett: The Trial of Viviane Amsalem (2015)         90.5\n",
       "Kumiko, The Treasure Hunter (2015)                75.0\n",
       "Length: 146, dtype: float64"
      ]
     },
     "execution_count": 71,
     "metadata": {},
     "output_type": "execute_result"
    }
   ],
   "source": [
    "#Taking the average of critic and user rating making it a series\n",
    "rt_mean= (df_qn['critic_ratings']+ df_qn['users_ratings'])/2\n",
    "rt_mean"
   ]
  },
  {
   "cell_type": "code",
   "execution_count": null,
   "metadata": {},
   "outputs": [],
   "source": []
  },
  {
   "cell_type": "code",
   "execution_count": null,
   "metadata": {},
   "outputs": [],
   "source": []
  }
 ],
 "metadata": {
  "kernelspec": {
   "display_name": "Python 3",
   "language": "python",
   "name": "python3"
  },
  "language_info": {
   "codemirror_mode": {
    "name": "ipython",
    "version": 3
   },
   "file_extension": ".py",
   "mimetype": "text/x-python",
   "name": "python",
   "nbconvert_exporter": "python",
   "pygments_lexer": "ipython3",
   "version": "3.7.3"
  }
 },
 "nbformat": 4,
 "nbformat_minor": 4
}
